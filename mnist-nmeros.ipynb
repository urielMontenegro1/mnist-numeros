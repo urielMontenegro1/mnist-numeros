{
  "nbformat": 4,
  "nbformat_minor": 0,
  "metadata": {
    "colab": {
      "name": "Actividad_5_sistemas_int_4.ipynb",
      "provenance": [],
      "collapsed_sections": []
    },
    "kernelspec": {
      "name": "python3",
      "display_name": "Python 3"
    },
    "language_info": {
      "name": "python"
    }
  },
  "cells": [
    {
      "cell_type": "markdown",
      "metadata": {
        "id": "Jre6TcsdU2PL"
      },
      "source": [
        "### **sensor**"
      ]
    },
    {
      "cell_type": "code",
      "metadata": {
        "colab": {
          "base_uri": "https://localhost:8080/"
        },
        "id": "l_jmVcuSOTL2",
        "outputId": "68c0de8a-28ef-4fd5-e7c1-0b392847c549"
      },
      "source": [
        "import cv2\n",
        "import pandas as pd\n",
        "import numpy as np\n",
        "import matplotlib.pyplot as plt\n",
        "from sklearn.model_selection import train_test_split\n",
        "from sklearn.pipeline import Pipeline\n",
        "from sklearn.preprocessing import StandardScaler \n",
        "from sklearn import metrics\n",
        "from sklearn.svm import SVC\n",
        "from sklearn.neural_network import MLPClassifier\n",
        "from sklearn.decomposition import PCA\n",
        "\n",
        "\n",
        "data=pd.read_csv('Sensor.csv')\n",
        "\n",
        "print(data)\n",
        "\n",
        "x=np.asanyarray(data.drop(columns=['D']))\n",
        "y=np.asanyarray(data[['D']])\n",
        "\n",
        "x_train, x_test, y_train, y_test =train_test_split(x,y,test_size=0.1)\n"
      ],
      "execution_count": 1,
      "outputs": [
        {
          "output_type": "stream",
          "name": "stdout",
          "text": [
            "       S1   S2   S3  D\n",
            "0      85   93  103  4\n",
            "1     155  160  115  3\n",
            "2     162  160  115  3\n",
            "3     147  104   73  6\n",
            "4      33   32   24  7\n",
            "...   ...  ...  ... ..\n",
            "2695  121  117   91  8\n",
            "2696  155  160  115  3\n",
            "2697  116  153  100  5\n",
            "2698  121  120   92  8\n",
            "2699  155  127   98  6\n",
            "\n",
            "[2700 rows x 4 columns]\n"
          ]
        }
      ]
    },
    {
      "cell_type": "code",
      "metadata": {
        "id": "TcXFyDiBP3WU"
      },
      "source": [
        "def Resultados (model,x_test,y_test):\n",
        "  \n",
        "  y_pred = model.predict(x_test)\n",
        "\n",
        "#metricas\n",
        "  print('Metricas: \\n',metrics.classification_report(y_test,y_pred))\n",
        "\n",
        "#Matriz de confusion\n",
        "  print('Confusion matrix: \\n', metrics.confusion_matrix(y_test,y_pred))"
      ],
      "execution_count": 2,
      "outputs": []
    },
    {
      "cell_type": "code",
      "metadata": {
        "colab": {
          "base_uri": "https://localhost:8080/"
        },
        "id": "myzipW9NSRyE",
        "outputId": "4666bb6c-83fa-4ad1-ebb1-e6142a45e1bb"
      },
      "source": [
        "model=Pipeline([('scaler',StandardScaler()),\n",
        "                ('cla',SVC(C=0.3,kernel='rbf'))])\n",
        "model.fit(x_train,y_train.ravel())\n",
        "\n",
        "print('train score:',model.score(x_train,y_train))\n",
        "print('test score:',model.score(x_test,y_test))\n",
        "\n",
        "Resultados(model,x_test,y_test)\n"
      ],
      "execution_count": 3,
      "outputs": [
        {
          "output_type": "stream",
          "name": "stdout",
          "text": [
            "train score: 0.9588477366255144\n",
            "test score: 0.9481481481481482\n",
            "Metricas: \n",
            "               precision    recall  f1-score   support\n",
            "\n",
            "           0       1.00      1.00      1.00        36\n",
            "           1       1.00      1.00      1.00        27\n",
            "           2       1.00      1.00      1.00        38\n",
            "           3       1.00      1.00      1.00        21\n",
            "           4       1.00      1.00      1.00        19\n",
            "           5       1.00      1.00      1.00        29\n",
            "           6       0.97      1.00      0.99        36\n",
            "           7       1.00      0.59      0.74        34\n",
            "           8       0.70      1.00      0.82        30\n",
            "\n",
            "    accuracy                           0.95       270\n",
            "   macro avg       0.96      0.95      0.95       270\n",
            "weighted avg       0.96      0.95      0.95       270\n",
            "\n",
            "Confusion matrix: \n",
            " [[36  0  0  0  0  0  0  0  0]\n",
            " [ 0 27  0  0  0  0  0  0  0]\n",
            " [ 0  0 38  0  0  0  0  0  0]\n",
            " [ 0  0  0 21  0  0  0  0  0]\n",
            " [ 0  0  0  0 19  0  0  0  0]\n",
            " [ 0  0  0  0  0 29  0  0  0]\n",
            " [ 0  0  0  0  0  0 36  0  0]\n",
            " [ 0  0  0  0  0  0  1 20 13]\n",
            " [ 0  0  0  0  0  0  0  0 30]]\n"
          ]
        }
      ]
    },
    {
      "cell_type": "code",
      "metadata": {
        "colab": {
          "base_uri": "https://localhost:8080/"
        },
        "id": "7bzHyHtMUKMf",
        "outputId": "cb21ab02-4d4a-4847-9f3e-db43979bb2be"
      },
      "source": [
        "model=Pipeline([('scaler',StandardScaler()),('cla',MLPClassifier())])\n",
        "model.fit(x_train,y_train.ravel())\n",
        "print('train score:',model.score(x_train,y_train))\n",
        "print('test score:',model.score(x_test,y_test))\n",
        "\n",
        "Resultados(model,x_test,y_test)"
      ],
      "execution_count": 4,
      "outputs": [
        {
          "output_type": "stream",
          "name": "stdout",
          "text": [
            "train score: 0.988477366255144\n",
            "test score: 0.9777777777777777\n",
            "Metricas: \n",
            "               precision    recall  f1-score   support\n",
            "\n",
            "           0       1.00      1.00      1.00        36\n",
            "           1       1.00      1.00      1.00        27\n",
            "           2       1.00      1.00      1.00        38\n",
            "           3       1.00      1.00      1.00        21\n",
            "           4       1.00      1.00      1.00        19\n",
            "           5       1.00      1.00      1.00        29\n",
            "           6       0.97      1.00      0.99        36\n",
            "           7       0.89      0.94      0.91        34\n",
            "           8       0.96      0.87      0.91        30\n",
            "\n",
            "    accuracy                           0.98       270\n",
            "   macro avg       0.98      0.98      0.98       270\n",
            "weighted avg       0.98      0.98      0.98       270\n",
            "\n",
            "Confusion matrix: \n",
            " [[36  0  0  0  0  0  0  0  0]\n",
            " [ 0 27  0  0  0  0  0  0  0]\n",
            " [ 0  0 38  0  0  0  0  0  0]\n",
            " [ 0  0  0 21  0  0  0  0  0]\n",
            " [ 0  0  0  0 19  0  0  0  0]\n",
            " [ 0  0  0  0  0 29  0  0  0]\n",
            " [ 0  0  0  0  0  0 36  0  0]\n",
            " [ 0  0  0  0  0  0  1 32  1]\n",
            " [ 0  0  0  0  0  0  0  4 26]]\n"
          ]
        },
        {
          "output_type": "stream",
          "name": "stderr",
          "text": [
            "/usr/local/lib/python3.7/dist-packages/sklearn/neural_network/_multilayer_perceptron.py:571: ConvergenceWarning: Stochastic Optimizer: Maximum iterations (200) reached and the optimization hasn't converged yet.\n",
            "  % self.max_iter, ConvergenceWarning)\n"
          ]
        }
      ]
    },
    {
      "cell_type": "markdown",
      "metadata": {
        "id": "i7ftoTC7U6qa"
      },
      "source": [
        "### **MNIST**"
      ]
    },
    {
      "cell_type": "code",
      "metadata": {
        "id": "fTctu4SlU9RQ"
      },
      "source": [
        "data=pd.read_csv('mnist_784.csv')\n",
        "n=7000\n",
        "m=28\n",
        "\n",
        "x=np.asanyarray(data.drop(columns=['class']))\n",
        "y=np.asanyarray(data[['class']])"
      ],
      "execution_count": 33,
      "outputs": []
    },
    {
      "cell_type": "code",
      "metadata": {
        "colab": {
          "base_uri": "https://localhost:8080/",
          "height": 281
        },
        "id": "46rEl572ZCAp",
        "outputId": "8450d113-04e8-4f8b-d12e-94a94d37c18c"
      },
      "source": [
        "numero=np.random.randint(n)\n",
        "\n",
        "plt.imshow(x[numero].reshape((m,m)),cmap=plt.cm.gray)\n",
        "plt.title('target'+str(y[numero]))\n",
        "plt.show()\n"
      ],
      "execution_count": 40,
      "outputs": [
        {
          "output_type": "display_data",
          "data": {
            "image/png": "[encoded data removed]",
            "text/plain": [
              "<Figure size 432x288 with 1 Axes>"
            ]
          },
          "metadata": {
            "needs_background": "light"
          }
        }
      ]
    },
    {
      "cell_type": "code",
      "metadata": {
        "id": "3ds5hPb7aMMp"
      },
      "source": [
        "def Resultados(model,x_test,y_test):\n",
        "\n",
        "    y_pred=model.predict(x_test)\n",
        "\n",
        "    #metricas\n",
        "    print('Metricas: \\n',metrics.classification_report(y_test,y_pred))\n",
        "\n",
        "    #Matriz de confusion\n",
        "    print('Confusion matrix: \\n', metrics.confusion_matrix(y_test,y_pred))\n",
        "\n",
        "\n",
        "               "
      ],
      "execution_count": 51,
      "outputs": []
    },
    {
      "cell_type": "code",
      "metadata": {
        "colab": {
          "base_uri": "https://localhost:8080/"
        },
        "id": "0FQ7cTK2m1uu",
        "outputId": "19f449a5-20c3-4d48-94ce-ea8f0fa4a748"
      },
      "source": [
        "x_train, x_test, y_train, y_test =train_test_split(x,y,test_size=0.1)\n",
        "\n",
        "model=Pipeline([('SS',StandardScaler()),('PCA',PCA(n_components=50)),('MLP',MLPClassifier(hidden_layer_sizes=(100,100),alpha=1.5,max_iter=1000))])\n",
        "\n",
        "model.fit(x_train,y_train.ravel())\n",
        "\n",
        "print('train score:', model.score(x_train,y_train))\n",
        "print('test score:',model.score(x_test,y_test))\n",
        "Resultados(model,x_test,y_test)"
      ],
      "execution_count": 55,
      "outputs": [
        {
          "output_type": "stream",
          "name": "stdout",
          "text": [
            "train score: 0.9672380952380952\n",
            "test score: 0.9645714285714285\n",
            "Metricas: \n",
            "               precision    recall  f1-score   support\n",
            "\n",
            "           0       0.97      0.98      0.98       657\n",
            "           1       0.98      0.98      0.98       773\n",
            "           2       0.96      0.96      0.96       710\n",
            "           3       0.97      0.95      0.96       717\n",
            "           4       0.96      0.97      0.97       686\n",
            "           5       0.95      0.96      0.96       621\n",
            "           6       0.97      0.97      0.97       659\n",
            "           7       0.98      0.96      0.97       756\n",
            "           8       0.96      0.95      0.95       723\n",
            "           9       0.94      0.96      0.95       698\n",
            "\n",
            "    accuracy                           0.96      7000\n",
            "   macro avg       0.96      0.96      0.96      7000\n",
            "weighted avg       0.96      0.96      0.96      7000\n",
            "\n",
            "Confusion matrix: \n",
            " [[643   0   2   1   1   1   4   0   5   0]\n",
            " [  0 760   5   0   0   1   1   0   3   3]\n",
            " [  4   1 685   3   7   0   1   5   4   0]\n",
            " [  1   2   7 681   0  12   1   2   8   3]\n",
            " [  0   0   1   0 666   1   2   2   0  14]\n",
            " [  2   3   0   5   1 597   7   0   3   3]\n",
            " [  6   1   3   1   3   3 639   0   3   0]\n",
            " [  2   1   8   3   4   0   0 723   1  14]\n",
            " [  2   4   5   5   3   7   4   0 687   6]\n",
            " [  1   0   0   4   8   4   0   8   2 671]]\n"
          ]
        }
      ]
    },
    {
      "cell_type": "code",
      "metadata": {
        "id": "Drw_3RYFdAGR"
      },
      "source": [
        "import pickle\n",
        "pickle.dump(model,open('SVM_MNIST.sav','wb'))"
      ],
      "execution_count": 76,
      "outputs": []
    },
    {
      "cell_type": "code",
      "metadata": {
        "colab": {
          "base_uri": "https://localhost:8080/"
        },
        "id": "CyXnKr7DdRoZ",
        "outputId": "f805f9c4-4c5d-480d-c4d1-a4935c92bc81"
      },
      "source": [
        "model=pickle.load(open('SVM_MNIST.sav','rb'))\n",
        "print('train score:',model.score(x_train,y_train))\n",
        "print('test score:',model.score(x_test,y_test))\n",
        "Resultados(model,x_test,y_test)"
      ],
      "execution_count": 71,
      "outputs": [
        {
          "output_type": "stream",
          "name": "stdout",
          "text": [
            "train score: 0.9672380952380952\n",
            "test score: 0.9645714285714285\n",
            "Metricas: \n",
            "               precision    recall  f1-score   support\n",
            "\n",
            "           0       0.97      0.98      0.98       657\n",
            "           1       0.98      0.98      0.98       773\n",
            "           2       0.96      0.96      0.96       710\n",
            "           3       0.97      0.95      0.96       717\n",
            "           4       0.96      0.97      0.97       686\n",
            "           5       0.95      0.96      0.96       621\n",
            "           6       0.97      0.97      0.97       659\n",
            "           7       0.98      0.96      0.97       756\n",
            "           8       0.96      0.95      0.95       723\n",
            "           9       0.94      0.96      0.95       698\n",
            "\n",
            "    accuracy                           0.96      7000\n",
            "   macro avg       0.96      0.96      0.96      7000\n",
            "weighted avg       0.96      0.96      0.96      7000\n",
            "\n",
            "Confusion matrix: \n",
            " [[643   0   2   1   1   1   4   0   5   0]\n",
            " [  0 760   5   0   0   1   1   0   3   3]\n",
            " [  4   1 685   3   7   0   1   5   4   0]\n",
            " [  1   2   7 681   0  12   1   2   8   3]\n",
            " [  0   0   1   0 666   1   2   2   0  14]\n",
            " [  2   3   0   5   1 597   7   0   3   3]\n",
            " [  6   1   3   1   3   3 639   0   3   0]\n",
            " [  2   1   8   3   4   0   0 723   1  14]\n",
            " [  2   4   5   5   3   7   4   0 687   6]\n",
            " [  1   0   0   4   8   4   0   8   2 671]]\n"
          ]
        }
      ]
    },
    {
      "cell_type": "code",
      "metadata": {
        "id": "bq-RAfBG316H"
      },
      "source": [
        "import pickle\n",
        "pickle.dump(model,open('MLP_MNIST.sav','wb'))"
      ],
      "execution_count": 124,
      "outputs": []
    },
    {
      "cell_type": "code",
      "metadata": {
        "colab": {
          "base_uri": "https://localhost:8080/"
        },
        "id": "FAAtkJB436r1",
        "outputId": "ac79399e-470a-4a3b-dd02-c888b8a4f90c"
      },
      "source": [
        "model=pickle.load(open('MLP_MNIST.sav','rb'))\n",
        "print('train score:',model.score(x_train,y_train))\n",
        "print('test score:',model.score(x_test,y_test))\n",
        "Resultados(model,x_test,y_test)"
      ],
      "execution_count": 125,
      "outputs": [
        {
          "output_type": "stream",
          "name": "stdout",
          "text": [
            "train score: 0.9672380952380952\n",
            "test score: 0.9645714285714285\n",
            "Metricas: \n",
            "               precision    recall  f1-score   support\n",
            "\n",
            "           0       0.97      0.98      0.98       657\n",
            "           1       0.98      0.98      0.98       773\n",
            "           2       0.96      0.96      0.96       710\n",
            "           3       0.97      0.95      0.96       717\n",
            "           4       0.96      0.97      0.97       686\n",
            "           5       0.95      0.96      0.96       621\n",
            "           6       0.97      0.97      0.97       659\n",
            "           7       0.98      0.96      0.97       756\n",
            "           8       0.96      0.95      0.95       723\n",
            "           9       0.94      0.96      0.95       698\n",
            "\n",
            "    accuracy                           0.96      7000\n",
            "   macro avg       0.96      0.96      0.96      7000\n",
            "weighted avg       0.96      0.96      0.96      7000\n",
            "\n",
            "Confusion matrix: \n",
            " [[643   0   2   1   1   1   4   0   5   0]\n",
            " [  0 760   5   0   0   1   1   0   3   3]\n",
            " [  4   1 685   3   7   0   1   5   4   0]\n",
            " [  1   2   7 681   0  12   1   2   8   3]\n",
            " [  0   0   1   0 666   1   2   2   0  14]\n",
            " [  2   3   0   5   1 597   7   0   3   3]\n",
            " [  6   1   3   1   3   3 639   0   3   0]\n",
            " [  2   1   8   3   4   0   0 723   1  14]\n",
            " [  2   4   5   5   3   7   4   0 687   6]\n",
            " [  1   0   0   4   8   4   0   8   2 671]]\n"
          ]
        }
      ]
    },
    {
      "cell_type": "markdown",
      "metadata": {
        "id": "TGdA8CkgPVnq"
      },
      "source": [
        "### **Segunda parte**"
      ]
    },
    {
      "cell_type": "code",
      "metadata": {
        "colab": {
          "base_uri": "https://localhost:8080/",
          "height": 264
        },
        "id": "7-CC3_cNDnqx",
        "outputId": "7dafc36b-8152-4663-a58b-81509b8697a0"
      },
      "source": [
        "import cv2\n",
        "import numpy as np\n",
        "import matplotlib.pyplot as plt\n",
        "\n",
        "img =cv2.imread('4.jfif')\n",
        "img_gray=cv2.cvtColor(img,cv2.COLOR_BGR2GRAY)\n",
        "\n",
        "th,img_bn=cv2.threshold(img_gray,100,255,cv2.THRESH_BINARY_INV)\n",
        "img_bn=cv2.resize(img_bn,(28,28))\n",
        "\n",
        "plt.imshow(img_bn,cmap=plt.cm.gray)\n",
        "plt.show()\n",
        "\n",
        "x=img_bn.reshape(1,784)\n",
        "\n"
      ],
      "execution_count": 119,
      "outputs": [
        {
          "output_type": "display_data",
          "data": {
            "image/png": "[encoded data removed]",
            "text/plain": [
              "<Figure size 432x288 with 1 Axes>"
            ]
          },
          "metadata": {
            "needs_background": "light"
          }
        }
      ]
    },
    {
      "cell_type": "code",
      "metadata": {
        "id": "r1kjf5_tfbRg"
      },
      "source": [
        "import pickle\n",
        "\n",
        "MLP=pickle.load(open('MLP_MNIST.sav','rb'))\n",
        "SVM=pickle.load(open('SVM_MNIST.sav','rb'))"
      ],
      "execution_count": 92,
      "outputs": []
    },
    {
      "cell_type": "code",
      "metadata": {
        "id": "yWO6-1yBf0qm"
      },
      "source": [
        "y_MLP=MLP.predict(x)\n",
        "y_SVM=SVM.predict(x)"
      ],
      "execution_count": 121,
      "outputs": []
    },
    {
      "cell_type": "code",
      "metadata": {
        "colab": {
          "base_uri": "https://localhost:8080/",
          "height": 544
        },
        "id": "EpGRFwArf_qv",
        "outputId": "8def0a14-16c2-41e5-a9d7-fa5bc6984ab2"
      },
      "source": [
        "plt.figure()\n",
        "plt.imshow(img_bn,cmap=plt.cm.gray)\n",
        "plt.title('Prediction MLP:'+str(y_MLP))\n",
        "plt.show()\n",
        "\n",
        "plt.figure()\n",
        "plt.imshow(img_bn,cmap=plt.cm.gray)\n",
        "plt.title('Prediction MLP:'+str(y_SVM))\n",
        "plt.show()"
      ],
      "execution_count": 122,
      "outputs": [
        {
          "output_type": "display_data",
          "data": {
            "image/png": "[encoded data removed]",
            "text/plain": [
              "<Figure size 432x288 with 1 Axes>"
            ]
          },
          "metadata": {
            "needs_background": "light"
          }
        },
        {
          "output_type": "display_data",
          "data": {
            "image/png": "[encoded data removed]",
            "text/plain": [
              "<Figure size 432x288 with 1 Axes>"
            ]
          },
          "metadata": {
            "needs_background": "light"
          }
        }
      ]
    }
  ]
}